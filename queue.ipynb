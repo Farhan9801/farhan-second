{
 "cells": [
  {
   "cell_type": "code",
   "execution_count": 35,
   "id": "8d6a1ff2",
   "metadata": {},
   "outputs": [
    {
     "name": "stdout",
     "output_type": "stream",
     "text": [
      "10\n",
      "20\n",
      "3\n",
      "4\n",
      "5\n"
     ]
    }
   ],
   "source": [
    "class queue1:\n",
    "    \n",
    "    def __init__(self):\n",
    "        \n",
    "        self.__data=[]\n",
    "        self.__count=0\n",
    "        self.__i=0\n",
    "        \n",
    "    def enqueue(self,ele):\n",
    "        self.__data.append(ele)\n",
    "        self.__count= self.__count +1\n",
    "        self.front=self.__data[self.__i]\n",
    "        \n",
    "        \n",
    "    def dequeue(self):\n",
    "        if self.size()!=0:\n",
    "            self.__count= self.__count -1\n",
    "            self.__i=self.__i+1\n",
    "            self.front=self.__data[self.__i]\n",
    "            \n",
    "        else:\n",
    "            return -1\n",
    "    \n",
    "    def size(self):\n",
    "        return self.__count\n",
    "    \n",
    "    def isempty(self):\n",
    "        if self.size()==0:\n",
    "            return isempty==True\n",
    "        else:\n",
    "            return False\n",
    "        \n",
    "    def front1(self):\n",
    "        return self.front\n",
    "    \n",
    "    \n",
    "q=queue1()\n",
    "q.enqueue(10)\n",
    "q.enqueue(20)\n",
    "\n",
    "q.enqueue(3)\n",
    "q.enqueue(4)\n",
    "q.enqueue(5)\n",
    "while q.size()!=0:\n",
    "    print(q.front1())\n",
    "    \n",
    "    if q.size()==1:\n",
    "        break\n",
    "    q.dequeue()\n",
    "        \n",
    "        \n",
    "    "
   ]
  }
 ],
 "metadata": {
  "kernelspec": {
   "display_name": "Python 3 (ipykernel)",
   "language": "python",
   "name": "python3"
  },
  "language_info": {
   "codemirror_mode": {
    "name": "ipython",
    "version": 3
   },
   "file_extension": ".py",
   "mimetype": "text/x-python",
   "name": "python",
   "nbconvert_exporter": "python",
   "pygments_lexer": "ipython3",
   "version": "3.11.0"
  }
 },
 "nbformat": 4,
 "nbformat_minor": 5
}
