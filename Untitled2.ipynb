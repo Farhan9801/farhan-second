{
 "cells": [
  {
   "cell_type": "code",
   "execution_count": 16,
   "id": "32afde17",
   "metadata": {},
   "outputs": [
    {
     "name": "stdout",
     "output_type": "stream",
     "text": [
      "1\n",
      "5\n",
      "4 7 6 5 8\n",
      "3\n"
     ]
    },
    {
     "ename": "NameError",
     "evalue": "name 'quick' is not defined",
     "output_type": "error",
     "traceback": [
      "\u001b[1;31m---------------------------------------------------------------------------\u001b[0m",
      "\u001b[1;31mNameError\u001b[0m                                 Traceback (most recent call last)",
      "Cell \u001b[1;32mIn[16], line 35\u001b[0m\n\u001b[0;32m     33\u001b[0m k\u001b[38;5;241m=\u001b[39m\u001b[38;5;28mint\u001b[39m(\u001b[38;5;28minput\u001b[39m())\n\u001b[0;32m     34\u001b[0m ob\u001b[38;5;241m=\u001b[39mSolution()\n\u001b[1;32m---> 35\u001b[0m \u001b[38;5;28mprint\u001b[39m(\u001b[43mob\u001b[49m\u001b[38;5;241;43m.\u001b[39;49m\u001b[43mkthSmallest\u001b[49m\u001b[43m(\u001b[49m\u001b[43marr\u001b[49m\u001b[43m,\u001b[49m\u001b[43m \u001b[49m\u001b[38;5;241;43m0\u001b[39;49m\u001b[43m,\u001b[49m\u001b[43m \u001b[49m\u001b[43mn\u001b[49m\u001b[38;5;241;43m-\u001b[39;49m\u001b[38;5;241;43m1\u001b[39;49m\u001b[43m,\u001b[49m\u001b[43m \u001b[49m\u001b[43mk\u001b[49m\u001b[43m)\u001b[49m)\n",
      "Cell \u001b[1;32mIn[16], line 23\u001b[0m, in \u001b[0;36mSolution.kthSmallest\u001b[1;34m(self, arr, l, m, k)\u001b[0m\n\u001b[0;32m     21\u001b[0m \u001b[38;5;28;01mdef\u001b[39;00m \u001b[38;5;21mkthSmallest\u001b[39m(\u001b[38;5;28mself\u001b[39m, arr, l, m, k):\n\u001b[1;32m---> 23\u001b[0m     arr\u001b[38;5;241m=\u001b[39m \u001b[38;5;28;43mself\u001b[39;49m\u001b[38;5;241;43m.\u001b[39;49m\u001b[43mquick\u001b[49m\u001b[43m(\u001b[49m\u001b[43marr\u001b[49m\u001b[43m,\u001b[49m\u001b[43ml\u001b[49m\u001b[43m,\u001b[49m\u001b[43mm\u001b[49m\u001b[43m)\u001b[49m\n\u001b[0;32m     25\u001b[0m     \u001b[38;5;28;01mreturn\u001b[39;00m n[k\u001b[38;5;241m-\u001b[39m\u001b[38;5;241m1\u001b[39m]\n",
      "Cell \u001b[1;32mIn[16], line 17\u001b[0m, in \u001b[0;36mSolution.quick\u001b[1;34m(self, n, s, en)\u001b[0m\n\u001b[0;32m     14\u001b[0m         \u001b[38;5;28;01mif\u001b[39;00m n[i]\u001b[38;5;241m>\u001b[39mn[j]:\n\u001b[0;32m     15\u001b[0m             n[i],n[j]\u001b[38;5;241m=\u001b[39mn[j],n[i]\n\u001b[1;32m---> 17\u001b[0m output\u001b[38;5;241m=\u001b[39m\u001b[43mquick\u001b[49m(n,s,c)\n\u001b[0;32m     18\u001b[0m output1\u001b[38;5;241m=\u001b[39mquick(n,c\u001b[38;5;241m+\u001b[39m\u001b[38;5;241m1\u001b[39m,en)\n\u001b[0;32m     19\u001b[0m \u001b[38;5;28;01mreturn\u001b[39;00m n\n",
      "\u001b[1;31mNameError\u001b[0m: name 'quick' is not defined"
     ]
    }
   ],
   "source": [
    "class Solution:\n",
    "    def quick(self,n,s,en):\n",
    "        if s>=en:\n",
    "            return \n",
    "        c=s\n",
    "        for i in range(s+1,en):\n",
    "            if n[s]>n[i]:\n",
    "                c+=1\n",
    "    \n",
    "        n[s],n[c]=n[c],n[s]\n",
    "    \n",
    "        for i in range(s,c):\n",
    "            for j in range(c+1,en):\n",
    "                if n[i]>n[j]:\n",
    "                    n[i],n[j]=n[j],n[i]\n",
    "    \n",
    "        output=quick(n,s,c)\n",
    "        output1=quick(n,c+1,en)\n",
    "        return n\n",
    "        \n",
    "    def kthSmallest(self, arr, l, m, k):\n",
    "            \n",
    "        n= self.quick(arr,l,m)\n",
    "            \n",
    "        return n[k-1]\n",
    "    \n",
    "if __name__ == '__main__': \n",
    "    import random \n",
    "    t=int(input())\n",
    "    for tcs in range(t):\n",
    "        n=int(input())\n",
    "        arr=list(map(int,input().strip().split()))\n",
    "        k=int(input())\n",
    "        ob=Solution()\n",
    "        print(ob.kthSmallest(arr, 0, n-1, k))"
   ]
  }
 ],
 "metadata": {
  "kernelspec": {
   "display_name": "Python 3 (ipykernel)",
   "language": "python",
   "name": "python3"
  },
  "language_info": {
   "codemirror_mode": {
    "name": "ipython",
    "version": 3
   },
   "file_extension": ".py",
   "mimetype": "text/x-python",
   "name": "python",
   "nbconvert_exporter": "python",
   "pygments_lexer": "ipython3",
   "version": "3.11.1"
  }
 },
 "nbformat": 4,
 "nbformat_minor": 5
}
