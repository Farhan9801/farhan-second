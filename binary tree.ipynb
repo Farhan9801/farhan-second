{
 "cells": [
  {
   "cell_type": "code",
   "execution_count": 4,
   "id": "a18971d9",
   "metadata": {},
   "outputs": [],
   "source": [
    " class BTnode:\n",
    "        def __init__(self,data):\n",
    "            self.data=data\n",
    "            self.left=None\n",
    "            self.right=None"
   ]
  },
  {
   "cell_type": "code",
   "execution_count": 5,
   "id": "68022967",
   "metadata": {},
   "outputs": [],
   "source": [
    "def printBT(root):\n",
    "    if root==None:\n",
    "        return\n",
    "    print(root.data, end=\":\")\n",
    "    if root.left!=None:\n",
    "        print(root.left.data,end=',')\n",
    "    if root.right!=None:\n",
    "        print(root.right.data, end='')\n",
    "    print()\n",
    "    printBT(root.left)\n",
    "    printBT(root.right)"
   ]
  },
  {
   "cell_type": "code",
   "execution_count": 6,
   "id": "1a71bea0",
   "metadata": {},
   "outputs": [],
   "source": [
    "def printdepthwise(root):\n",
    "    import queue\n",
    "    q=queue.Queue()\n",
    "    if root==None:\n",
    "        return None\n",
    "    q.put(root)\n",
    "    print(root.data,end=' ')\n",
    "    while not(q.empty()):\n",
    "        currentnode=q.get()\n",
    "        if currentnode.left!=None:\n",
    "            print(currentnode.left.data,end=' ')\n",
    "            q.put(currentnode.left)\n",
    "        if currentnode.right!=None:\n",
    "            print(currentnode.right.data,end=' ')\n",
    "            q.put(currentnode.right)\n",
    "            "
   ]
  },
  {
   "cell_type": "code",
   "execution_count": 7,
   "id": "c7e8276e",
   "metadata": {},
   "outputs": [],
   "source": [
    "def printdepthwise2(root):\n",
    "    import queue\n",
    "    q=queue.Queue()\n",
    "    if root==None:\n",
    "        return None\n",
    "    q.put(root)\n",
    "    while not(q.empty()):\n",
    "        currentnode=q.get()\n",
    "        print(currentnode.data,end=':')\n",
    "        if currentnode.left!=None:\n",
    "            print('L',currentnode.left.data,end=' ')\n",
    "            q.put(currentnode.left)\n",
    "        if currentnode.right!=None:\n",
    "            print('R',currentnode.right.data,end=' ')\n",
    "            q.put(currentnode.right)\n",
    "        print('')\n",
    "    "
   ]
  },
  {
   "cell_type": "code",
   "execution_count": 8,
   "id": "0173db3b",
   "metadata": {},
   "outputs": [],
   "source": [
    "def binaryinput():\n",
    "    rootdata=int(input())\n",
    "    if rootdata==-1:\n",
    "        return None\n",
    "    root=BTnode(rootdata)\n",
    "    \n",
    "    root.left=binaryinput()\n",
    "    root.right=binaryinput()\n",
    "    return root"
   ]
  },
  {
   "cell_type": "code",
   "execution_count": 9,
   "id": "8c98b933",
   "metadata": {},
   "outputs": [],
   "source": [
    "def binaryinput2():\n",
    "    import queue\n",
    "    q=queue.Queue()\n",
    "    print('Entre the root')\n",
    "    root=int(input())\n",
    "    if root==-1:\n",
    "        return None\n",
    "    rootnode=BTnode(root)\n",
    "    q.put(rootnode)\n",
    "    while (not(q.empty())):\n",
    "        currentnode=q.get()\n",
    "        print('entre the left child node',currentnode.data)\n",
    "        leftchilddata=int(input())\n",
    "        if leftchilddata!=-1:\n",
    "            leftchildnode=BTnode(leftchilddata)\n",
    "            currentnode.left=leftchildnode\n",
    "            q.put(leftchildnode)\n",
    "        \n",
    "        print('entre the right child node',currentnode.data)\n",
    "        rightchilddata=int(input())\n",
    "        if rightchilddata!=-1:\n",
    "            rightchildnode=BTnode(rightchilddata)\n",
    "            currentnode.right=rightchildnode\n",
    "            q.put(rightchildnode)\n",
    "    return rootnode\n",
    "            "
   ]
  },
  {
   "cell_type": "code",
   "execution_count": 10,
   "id": "edac5975",
   "metadata": {},
   "outputs": [],
   "source": [
    "# NOT DONEEEEEEEEEEEEEEEEEEEEEEEEEEEEEEEEEEEEEEEEE\n",
    "def binaryinput3():\n",
    "    import queue\n",
    "    q=queue.Queue()\n",
    "    lst1=[int(x) for x in input().split()]\n",
    "    lst2=lst1[::-1]\n",
    "    root=BTnode(lst2.pop())\n",
    "    q.put(root)\n",
    "    x=len(lst2)\n",
    "    i=0\n",
    "    while not(q.empty()):\n",
    "        currentnode=q.get()\n",
    "        next=lst2.pop()\n",
    "        if next!=-1:\n",
    "            leftnode=BTnode(next)\n",
    "            currentnode.left=leftnode\n",
    "            q.put(leftnode)\n",
    "            \n",
    "        else:\n",
    "            currentnode.left=None\n",
    "        next2=lst2.pop()\n",
    "        \n",
    "        if next2!=-1:\n",
    "            rightnode=BTnode(next2)\n",
    "            currentnode.right=rightnode\n",
    "            q.put(rightnode)\n",
    "            \n",
    "        else:\n",
    "            currentnode.right=None\n",
    "        i+=1\n",
    "\n",
    "    return root"
   ]
  },
  {
   "cell_type": "code",
   "execution_count": 11,
   "id": "d7ac7d1f",
   "metadata": {},
   "outputs": [
    {
     "ename": "KeyboardInterrupt",
     "evalue": "Interrupted by user",
     "output_type": "error",
     "traceback": [
      "\u001b[1;31m---------------------------------------------------------------------------\u001b[0m",
      "\u001b[1;31mKeyboardInterrupt\u001b[0m                         Traceback (most recent call last)",
      "Cell \u001b[1;32mIn[11], line 1\u001b[0m\n\u001b[1;32m----> 1\u001b[0m lst\u001b[38;5;241m=\u001b[39m[\u001b[38;5;28mint\u001b[39m(x) \u001b[38;5;28;01mfor\u001b[39;00m x \u001b[38;5;129;01min\u001b[39;00m \u001b[38;5;28;43minput\u001b[39;49m\u001b[43m(\u001b[49m\u001b[43m)\u001b[49m\u001b[38;5;241m.\u001b[39msplit()]\n\u001b[0;32m      2\u001b[0m lst2\u001b[38;5;241m=\u001b[39mlst[::\u001b[38;5;241m-\u001b[39m\u001b[38;5;241m1\u001b[39m]\n\u001b[0;32m      3\u001b[0m lst2\u001b[38;5;241m.\u001b[39mpop()\n",
      "File \u001b[1;32m~\\AppData\\Local\\Programs\\Python\\Python311\\Lib\\site-packages\\ipykernel\\kernelbase.py:1182\u001b[0m, in \u001b[0;36mKernel.raw_input\u001b[1;34m(self, prompt)\u001b[0m\n\u001b[0;32m   1180\u001b[0m     msg \u001b[38;5;241m=\u001b[39m \u001b[38;5;124m\"\u001b[39m\u001b[38;5;124mraw_input was called, but this frontend does not support input requests.\u001b[39m\u001b[38;5;124m\"\u001b[39m\n\u001b[0;32m   1181\u001b[0m     \u001b[38;5;28;01mraise\u001b[39;00m StdinNotImplementedError(msg)\n\u001b[1;32m-> 1182\u001b[0m \u001b[38;5;28;01mreturn\u001b[39;00m \u001b[38;5;28;43mself\u001b[39;49m\u001b[38;5;241;43m.\u001b[39;49m\u001b[43m_input_request\u001b[49m\u001b[43m(\u001b[49m\n\u001b[0;32m   1183\u001b[0m \u001b[43m    \u001b[49m\u001b[38;5;28;43mstr\u001b[39;49m\u001b[43m(\u001b[49m\u001b[43mprompt\u001b[49m\u001b[43m)\u001b[49m\u001b[43m,\u001b[49m\n\u001b[0;32m   1184\u001b[0m \u001b[43m    \u001b[49m\u001b[38;5;28;43mself\u001b[39;49m\u001b[38;5;241;43m.\u001b[39;49m\u001b[43m_parent_ident\u001b[49m\u001b[43m[\u001b[49m\u001b[38;5;124;43m\"\u001b[39;49m\u001b[38;5;124;43mshell\u001b[39;49m\u001b[38;5;124;43m\"\u001b[39;49m\u001b[43m]\u001b[49m\u001b[43m,\u001b[49m\n\u001b[0;32m   1185\u001b[0m \u001b[43m    \u001b[49m\u001b[38;5;28;43mself\u001b[39;49m\u001b[38;5;241;43m.\u001b[39;49m\u001b[43mget_parent\u001b[49m\u001b[43m(\u001b[49m\u001b[38;5;124;43m\"\u001b[39;49m\u001b[38;5;124;43mshell\u001b[39;49m\u001b[38;5;124;43m\"\u001b[39;49m\u001b[43m)\u001b[49m\u001b[43m,\u001b[49m\n\u001b[0;32m   1186\u001b[0m \u001b[43m    \u001b[49m\u001b[43mpassword\u001b[49m\u001b[38;5;241;43m=\u001b[39;49m\u001b[38;5;28;43;01mFalse\u001b[39;49;00m\u001b[43m,\u001b[49m\n\u001b[0;32m   1187\u001b[0m \u001b[43m\u001b[49m\u001b[43m)\u001b[49m\n",
      "File \u001b[1;32m~\\AppData\\Local\\Programs\\Python\\Python311\\Lib\\site-packages\\ipykernel\\kernelbase.py:1225\u001b[0m, in \u001b[0;36mKernel._input_request\u001b[1;34m(self, prompt, ident, parent, password)\u001b[0m\n\u001b[0;32m   1222\u001b[0m \u001b[38;5;28;01mexcept\u001b[39;00m \u001b[38;5;167;01mKeyboardInterrupt\u001b[39;00m:\n\u001b[0;32m   1223\u001b[0m     \u001b[38;5;66;03m# re-raise KeyboardInterrupt, to truncate traceback\u001b[39;00m\n\u001b[0;32m   1224\u001b[0m     msg \u001b[38;5;241m=\u001b[39m \u001b[38;5;124m\"\u001b[39m\u001b[38;5;124mInterrupted by user\u001b[39m\u001b[38;5;124m\"\u001b[39m\n\u001b[1;32m-> 1225\u001b[0m     \u001b[38;5;28;01mraise\u001b[39;00m \u001b[38;5;167;01mKeyboardInterrupt\u001b[39;00m(msg) \u001b[38;5;28;01mfrom\u001b[39;00m \u001b[38;5;28mNone\u001b[39m\n\u001b[0;32m   1226\u001b[0m \u001b[38;5;28;01mexcept\u001b[39;00m \u001b[38;5;167;01mException\u001b[39;00m:\n\u001b[0;32m   1227\u001b[0m     \u001b[38;5;28mself\u001b[39m\u001b[38;5;241m.\u001b[39mlog\u001b[38;5;241m.\u001b[39mwarning(\u001b[38;5;124m\"\u001b[39m\u001b[38;5;124mInvalid Message:\u001b[39m\u001b[38;5;124m\"\u001b[39m, exc_info\u001b[38;5;241m=\u001b[39m\u001b[38;5;28;01mTrue\u001b[39;00m)\n",
      "\u001b[1;31mKeyboardInterrupt\u001b[0m: Interrupted by user"
     ]
    }
   ],
   "source": [
    "lst=[int(x) for x in input().split()]\n",
    "lst2=lst[::-1]\n",
    "lst2.pop()\n",
    "print(lst2)"
   ]
  },
  {
   "cell_type": "code",
   "execution_count": null,
   "id": "c26e9d64",
   "metadata": {},
   "outputs": [],
   "source": [
    "def Buildtree(ino,preo):\n",
    "    if len(pre)==0:\n",
    "        return None\n",
    "    \n",
    "    rootdata=preo[0]\n",
    "    root=BTnode(rootdata)\n",
    "    i=0\n",
    "    for j in ino:\n",
    "        if j!=rootdata:\n",
    "            i+=1\n",
    "        else:\n",
    "            break\n",
    "    leftino=ino[:i]\n",
    "    rightino=ino[i+1:]\n",
    "    \n",
    "    leftpreo=preo[1:i+1]\n",
    "    rightpreo=preo[i+1:]\n",
    "    \n",
    "    leftchild=Buildtree(leftino,leftpreo)\n",
    "    rightchild=Buildtree(rightino,rightpreo)\n",
    "    \n",
    "    root.left=leftchild\n",
    "    root.right=rightchild\n",
    "    return root"
   ]
  },
  {
   "cell_type": "code",
   "execution_count": null,
   "id": "c3f26fca",
   "metadata": {},
   "outputs": [],
   "source": [
    "def printBTpre(root):\n",
    "    if root==None:\n",
    "        return \n",
    "    print(root.data)\n",
    "    printBTpre(root.left)\n",
    "    printBTpre(root.right)\n",
    "    "
   ]
  },
  {
   "cell_type": "code",
   "execution_count": null,
   "id": "7f1c8124",
   "metadata": {},
   "outputs": [],
   "source": [
    "def printBTpost(root):\n",
    "    if root==None:\n",
    "        return \n",
    "    printBTpost(root.left)\n",
    "    printBTpost(root.right)\n",
    "    print(root.data)"
   ]
  },
  {
   "cell_type": "code",
   "execution_count": null,
   "id": "806fc9e0",
   "metadata": {},
   "outputs": [],
   "source": [
    "def binarycount(root):\n",
    "    count=0\n",
    "    \n",
    "    if root==None:\n",
    "        return 0\n",
    "    rootleft=binarycount(root.left)\n",
    "    rootright=binarycount(root.right)\n",
    "    return 1+rootleft+rootright"
   ]
  },
  {
   "cell_type": "code",
   "execution_count": null,
   "id": "3d59a964",
   "metadata": {},
   "outputs": [],
   "source": [
    "def BTmaxnode(root):\n",
    "    if root==None:\n",
    "        return -1\n",
    "    rootleft=BTmaxnode(root.left)\n",
    "    rootright=BTmaxnode(root.right)\n",
    "    largest=max(rootleft,rootright,root.data)\n",
    "    return largest"
   ]
  },
  {
   "cell_type": "code",
   "execution_count": null,
   "id": "21b6850f",
   "metadata": {},
   "outputs": [],
   "source": [
    "def heightBT(root):\n",
    "    if root==None:\n",
    "        return 0\n",
    "    leftroot=heightBT(root.left)\n",
    "    rightroot=heightBT(root.right)\n",
    "    if leftroot>rightroot:\n",
    "        return leftroot+1\n",
    "    else:\n",
    "        return rightroot+1"
   ]
  },
  {
   "cell_type": "code",
   "execution_count": null,
   "id": "a84eecce",
   "metadata": {},
   "outputs": [],
   "source": [
    "def leafBT(root):\n",
    "    if root==None:\n",
    "        return 0\n",
    "    if root.left==None and root.right==None:\n",
    "        return 1\n",
    "    leftnode=leafBT(root.left)\n",
    "    rightnode=leafBT(root.right)\n",
    "    return leftnode+rightnode"
   ]
  },
  {
   "cell_type": "code",
   "execution_count": null,
   "id": "70b8efbc",
   "metadata": {},
   "outputs": [],
   "source": [
    "def printDBT(root,k):\n",
    "    if root==None:\n",
    "        return\n",
    "    if k==0:\n",
    "        return print(root.data)\n",
    "    leftnode=printDBT(root.left,k-1)\n",
    "    rightnode=printDBT(root.right,k-1)\n",
    "    return "
   ]
  },
  {
   "cell_type": "code",
   "execution_count": null,
   "id": "827a85cb",
   "metadata": {},
   "outputs": [],
   "source": [
    "def printDBT2(root,k,d=0):\n",
    "    if root==None:\n",
    "        return\n",
    "    if k==d:\n",
    "        return print(root.data)\n",
    "    leftnode=printDBT2(root.left,k,d+1)\n",
    "    rightnode=printDBT2(root.right,k,d+1)\n",
    "    return "
   ]
  },
  {
   "cell_type": "code",
   "execution_count": null,
   "id": "d1c6108f",
   "metadata": {},
   "outputs": [],
   "source": [
    "# ASSIGNMENT\n",
    "def replace(root,k=0):\n",
    "    if root==None:\n",
    "        return\n",
    "    root.data=k\n",
    "    leftroot=replace(root.left,k+1)\n",
    "    rightroot=replace(root.right,k+1)\n",
    "    return"
   ]
  },
  {
   "cell_type": "code",
   "execution_count": null,
   "id": "b6b5bf1c",
   "metadata": {},
   "outputs": [],
   "source": [
    "def removeLN(root):\n",
    "    if root == None:\n",
    "        return None\n",
    "    if root.left==None and root.right==None:\n",
    "        return None\n",
    "    root.left=removeLN(root.left)\n",
    "    root.right=removeLN(root.right)\n",
    "    return root\n"
   ]
  },
  {
   "cell_type": "code",
   "execution_count": null,
   "id": "4a40d2b5",
   "metadata": {},
   "outputs": [],
   "source": [
    "def balanced(root):\n",
    "    if root==None:\n",
    "        return True\n",
    "    lh= heightBT(root.left)\n",
    "    rh= heightBT(root.right)\n",
    "    if lh-rh>1 or rh-lh>1:\n",
    "        return False\n",
    "    leftroot=balanced(root.left)\n",
    "    rightroot=balanced(root.right)\n",
    "    if leftroot and rightroot:\n",
    "        return True\n",
    "    else:\n",
    "        return False\n",
    "    "
   ]
  },
  {
   "cell_type": "code",
   "execution_count": null,
   "id": "09acfd1d",
   "metadata": {},
   "outputs": [],
   "source": [
    "def isbalanced(root):\n",
    "    if root==None:\n",
    "        return 0, True\n",
    "    lh,isleftbalanced=isbalanced(root.left)\n",
    "    rh,isrightbalanced=isbalanced(root.right)\n",
    "    \n",
    "    h=1+max(lh,rh)\n",
    "    \n",
    "    if lh-rh>1 or lh-rh<-1:\n",
    "        return h, False\n",
    "    \n",
    "    if isleftbalanced and isrightbalanced:\n",
    "        return h,True\n",
    "    \n",
    "    else:\n",
    "        return h,False"
   ]
  },
  {
   "cell_type": "code",
   "execution_count": null,
   "id": "b97dd8a0",
   "metadata": {},
   "outputs": [],
   "source": [
    "def diameter(root):\n",
    "    if root==None:\n",
    "        return 0, 0\n",
    "    lh,leftdiameter=diameter(root.left)\n",
    "    rh,rightdiameter=diameter(root.right)\n",
    "    h=1+max(lh,rh)\n",
    "    \n",
    "    ld=1+leftdiameter\n",
    "    rd=1+rightdiameter\n",
    "    return ld,max(h,ld,rd)"
   ]
  },
  {
   "cell_type": "code",
   "execution_count": null,
   "id": "a65bc7b3",
   "metadata": {},
   "outputs": [],
   "source": [
    "def balanced2(root):\n",
    "    h, isbalanced2= isbalanced(root)\n",
    "    return isbalanced2"
   ]
  },
  {
   "cell_type": "code",
   "execution_count": 16,
   "id": "003c7cca",
   "metadata": {},
   "outputs": [],
   "source": [
    "def nodetorootpath(root,s):\n",
    "    if root==None:\n",
    "        return None\n",
    "    if root.data==s:\n",
    "        lst=[]\n",
    "        lst.append(root.data)\n",
    "        return lst\n",
    "    \n",
    "    leftoutput=nodetorootpath(root.left,s)\n",
    "    if leftoutput!=None:\n",
    "        leftoutput.append(root.data)\n",
    "        return leftoutput\n",
    "    \n",
    "    rightoutput=nodetorootpath(root.right,s)\n",
    "    if rightoutput!=None:\n",
    "        rightoutput.append(root.data)\n",
    "        return rightoutput\n",
    "    else:\n",
    "        return None"
   ]
  },
  {
   "cell_type": "code",
   "execution_count": 18,
   "id": "fa0123b0",
   "metadata": {},
   "outputs": [
    {
     "name": "stdout",
     "output_type": "stream",
     "text": [
      "1 2 3 -1 -1 4 6 -1 -1 5 9 7 8 -1 -1 -1 -1 -1 -1\n",
      "0\n",
      "1\n",
      "2\n",
      "3\n",
      "4\n",
      "5\n",
      "6\n",
      "7\n",
      "8\n",
      "1:L 2 R 3 \n",
      "2:\n",
      "3:L 4 R 6 \n",
      "4:\n",
      "6:L 5 R 9 \n",
      "5:L 7 R 8 \n",
      "9:\n",
      "7:\n",
      "8:\n",
      "[5, 6, 3, 1]\n"
     ]
    }
   ],
   "source": [
    "\n",
    "##### root=binaryinput()\n",
    "\n",
    "root=binaryinput3()\n",
    "printdepthwise2(root)\n",
    "# printBTpre(root)\n",
    "# # printBTpost(root)\n",
    "print(nodetorootpath(root,5))\n",
    "\n",
    "\n",
    "# print(binarycount(root))\n",
    "# BTmaxnode(root)\n",
    "# print(heightBT(root))\n",
    "# print('no. of leaf node',leafBT(root))\n",
    "# printDBT2(root,2,0)\n",
    "# replace(root,k=0)\n",
    "# printBT(root)\n",
    "# print(diameter(root))\n",
    "# # balanced(root)\n",
    "# print(balanced2(root))"
   ]
  },
  {
   "cell_type": "code",
   "execution_count": null,
   "id": "131be199",
   "metadata": {},
   "outputs": [],
   "source": []
  }
 ],
 "metadata": {
  "kernelspec": {
   "display_name": "Python 3 (ipykernel)",
   "language": "python",
   "name": "python3"
  },
  "language_info": {
   "codemirror_mode": {
    "name": "ipython",
    "version": 3
   },
   "file_extension": ".py",
   "mimetype": "text/x-python",
   "name": "python",
   "nbconvert_exporter": "python",
   "pygments_lexer": "ipython3",
   "version": "3.11.1"
  }
 },
 "nbformat": 4,
 "nbformat_minor": 5
}
