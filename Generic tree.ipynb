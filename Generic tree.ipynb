{
 "cells": [
  {
   "cell_type": "code",
   "execution_count": 2,
   "id": "fefb0bbd",
   "metadata": {},
   "outputs": [],
   "source": [
    "class Treenode:\n",
    "    def __init__(self,data):\n",
    "        self.data=data\n",
    "        self.children=list()"
   ]
  },
  {
   "cell_type": "code",
   "execution_count": 4,
   "id": "4a39001e",
   "metadata": {},
   "outputs": [],
   "source": [
    "def printtree1(root):\n",
    "    if root==None: #not a base case its a edge case\n",
    "        return\n",
    "    print(root.data)\n",
    "    for child in root.children:\n",
    "        printtree1(child)"
   ]
  },
  {
   "cell_type": "code",
   "execution_count": 3,
   "id": "9b168dbf",
   "metadata": {},
   "outputs": [],
   "source": [
    "def printtree2(root):\n",
    "    if root==None: #not a base case its a edge case\n",
    "        return\n",
    "    print(root.data,end=':')\n",
    "    for child in root.children:\n",
    "        print(child.data,end=',')\n",
    "    print()\n",
    "    for child in root.children:\n",
    "        printtree2(child)"
   ]
  },
  {
   "cell_type": "code",
   "execution_count": 6,
   "id": "4e6cb28d",
   "metadata": {},
   "outputs": [],
   "source": [
    "def taketreeinput():\n",
    "    print('entre the root')\n",
    "    rootdata=int(input())\n",
    "    root=Treenode(rootdata)\n",
    "    print('Number of child of root',root.data)\n",
    "    Childcount=int(input())\n",
    "    for i in range(Childcount):\n",
    "        child=taketreeinput()\n",
    "        root.children.append(child)\n",
    "    return root"
   ]
  },
  {
   "cell_type": "code",
   "execution_count": 1,
   "id": "fdbd6ebd",
   "metadata": {},
   "outputs": [],
   "source": [
    "def taketreeinputlevelwise():\n",
    "    print('entre the root')\n",
    "    rootdata=int(input())\n",
    "    root=Treenode(rootdata)\n",
    "    print('Number of child of root',root.data)\n",
    "    Childcount=int(input())\n",
    "    for i in range(Childcount):\n",
    "        childdata=int(input())\n",
    "        node=Treenode(childdata)\n",
    "        root.children.append(node)\n",
    "    for i in root.children:\n",
    "         child=taketreeinputlevelwise()\n",
    "    return root"
   ]
  },
  {
   "cell_type": "code",
   "execution_count": 7,
   "id": "4220b206",
   "metadata": {},
   "outputs": [],
   "source": [
    "def GI():\n",
    "    print('Entre the Root')\n",
    "    rootdata=int(input())\n",
    "    root=Treenode(rootdata)\n",
    "    print('Entre the number of child node')\n",
    "    children=int(input())\n",
    "    for child in range(children):\n",
    "        childnode=GI()\n",
    "        root.children.append(childnode)\n",
    "    return root\n",
    "        \n",
    "        "
   ]
  },
  {
   "cell_type": "code",
   "execution_count": 31,
   "id": "8b1b316c",
   "metadata": {},
   "outputs": [],
   "source": [
    "def nodenumber(root): # by self fail\n",
    "    m=root.children\n",
    "    if len(m)==0:\n",
    "        return 1\n",
    "    \n",
    "    for i in m:\n",
    "        x=1+ nodenumber(i)\n",
    "        \n",
    "    return x+1\n",
    "        "
   ]
  },
  {
   "cell_type": "code",
   "execution_count": 26,
   "id": "e22dad5e",
   "metadata": {},
   "outputs": [],
   "source": [
    "def numnode(root):\n",
    "    if root==None:\n",
    "        return 0\n",
    "    count=1\n",
    "    for child in root.children:\n",
    "        count=count+numnode(child)\n",
    "        \n",
    "    return count"
   ]
  },
  {
   "cell_type": "code",
   "execution_count": 9,
   "id": "1493c7b7",
   "metadata": {},
   "outputs": [
    {
     "name": "stdout",
     "output_type": "stream",
     "text": [
      "entre the root\n",
      "1\n",
      "Number of child of root 1\n",
      "3\n",
      "2\n",
      "3\n",
      "4\n",
      "entre the root\n",
      "2\n",
      "Number of child of root 2\n",
      "0\n",
      "entre the root\n",
      "3\n",
      "Number of child of root 3\n",
      "2\n",
      "5\n",
      "6\n",
      "entre the root\n",
      "4\n",
      "Number of child of root 4\n",
      "0\n",
      "entre the root\n",
      "0\n",
      "Number of child of root 0\n",
      "0\n",
      "entre the root\n",
      "0\n",
      "Number of child of root 0\n",
      "0\n",
      "1:2,3,4,\n",
      "2:\n",
      "3:\n",
      "4:\n"
     ]
    },
    {
     "ename": "NameError",
     "evalue": "name 'numnode' is not defined",
     "output_type": "error",
     "traceback": [
      "\u001b[1;31m---------------------------------------------------------------------------\u001b[0m",
      "\u001b[1;31mNameError\u001b[0m                                 Traceback (most recent call last)",
      "Cell \u001b[1;32mIn[9], line 3\u001b[0m\n\u001b[0;32m      1\u001b[0m root\u001b[38;5;241m=\u001b[39mtaketreeinputlevelwise()\n\u001b[0;32m      2\u001b[0m printtree2(root)\n\u001b[1;32m----> 3\u001b[0m \u001b[38;5;28mprint\u001b[39m(\u001b[43mnumnode\u001b[49m(root))\n\u001b[0;32m      4\u001b[0m \u001b[38;5;28mprint\u001b[39m(nodenumber(root))\n",
      "\u001b[1;31mNameError\u001b[0m: name 'numnode' is not defined"
     ]
    }
   ],
   "source": [
    "root=taketreeinputlevelwise()\n",
    "printtree2(root)\n",
    "print(numnode(root))\n",
    "print(nodenumber(root))"
   ]
  },
  {
   "cell_type": "code",
   "execution_count": 30,
   "id": "db011d23",
   "metadata": {},
   "outputs": [
    {
     "name": "stdout",
     "output_type": "stream",
     "text": [
      "5:2,9,8,7,\n",
      "2:\n",
      "9:15,1,\n",
      "15:\n",
      "1:\n",
      "8:\n",
      "7:\n"
     ]
    }
   ],
   "source": [
    "n1=Treenode(5)\n",
    "n2=Treenode(2)\n",
    "n3=Treenode(9)\n",
    "n4=Treenode(8)\n",
    "n5=Treenode(7)\n",
    "n6=Treenode(15)\n",
    "n7=Treenode(1)\n",
    "n1.children.append(n2)\n",
    "n1.children.append(n3)\n",
    "n1.children.append(n4)\n",
    "n1.children.append(n5)\n",
    "n3.children.append(n6)\n",
    "n3.children.append(n7)\n",
    "printtree2(n1)"
   ]
  }
 ],
 "metadata": {
  "kernelspec": {
   "display_name": "Python 3 (ipykernel)",
   "language": "python",
   "name": "python3"
  },
  "language_info": {
   "codemirror_mode": {
    "name": "ipython",
    "version": 3
   },
   "file_extension": ".py",
   "mimetype": "text/x-python",
   "name": "python",
   "nbconvert_exporter": "python",
   "pygments_lexer": "ipython3",
   "version": "3.11.1"
  }
 },
 "nbformat": 4,
 "nbformat_minor": 5
}
