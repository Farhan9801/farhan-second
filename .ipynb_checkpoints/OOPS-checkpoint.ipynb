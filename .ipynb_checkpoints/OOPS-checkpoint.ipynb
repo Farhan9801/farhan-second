{
 "cells": [
  {
   "cell_type": "code",
   "execution_count": 14,
   "id": "fd42a55d",
   "metadata": {},
   "outputs": [
    {
     "ename": "SyntaxError",
     "evalue": "invalid syntax. Maybe you meant '==' or ':=' instead of '='? (3523860610.py, line 10)",
     "output_type": "error",
     "traceback": [
      "\u001b[1;36m  Cell \u001b[1;32mIn[14], line 10\u001b[1;36m\u001b[0m\n\u001b[1;33m    if den=1:\u001b[0m\n\u001b[1;37m       ^\u001b[0m\n\u001b[1;31mSyntaxError\u001b[0m\u001b[1;31m:\u001b[0m invalid syntax. Maybe you meant '==' or ':=' instead of '='?\n"
     ]
    }
   ],
   "source": [
    "class fraction:\n",
    "    def __init__(self,num=0,den=1):\n",
    "        if den==0:\n",
    "            return print('invalid number')\n",
    "        self.num=num\n",
    "        self.den=den\n",
    "        print(self.num, '/', self.den)\n",
    "    \n",
    "    def simplify(self):\n",
    "        if den=1:\n",
    "            return print(self.num)\n",
    "        x=min(self.num,self.den)\n",
    "        while x>1:\n",
    "            if self.num%x==0 and self.den%x==0:\n",
    "                return print(self.num/x, '/', self.den/x)\n",
    "            x=x-1\n",
    "        else:\n",
    "            return print(self.num, '/', self.den)\n",
    "        \n",
    "        \n",
    "        \n",
    "s1=fraction(5,7)"
   ]
  },
  {
   "cell_type": "code",
   "execution_count": 11,
   "id": "401addcd",
   "metadata": {},
   "outputs": [
    {
     "name": "stdout",
     "output_type": "stream",
     "text": [
      "5 / 0\n"
     ]
    }
   ],
   "source": [
    "s1=fraction(5,0)"
   ]
  }
 ],
 "metadata": {
  "kernelspec": {
   "display_name": "Python 3 (ipykernel)",
   "language": "python",
   "name": "python3"
  },
  "language_info": {
   "codemirror_mode": {
    "name": "ipython",
    "version": 3
   },
   "file_extension": ".py",
   "mimetype": "text/x-python",
   "name": "python",
   "nbconvert_exporter": "python",
   "pygments_lexer": "ipython3",
   "version": "3.11.0"
  }
 },
 "nbformat": 4,
 "nbformat_minor": 5
}
