{
 "cells": [
  {
   "cell_type": "code",
   "execution_count": 45,
   "id": "5d903776",
   "metadata": {},
   "outputs": [],
   "source": [
    "class fraction:\n",
    "    def __init__(self,num=0,den=1):\n",
    "        if den==0:\n",
    "            return print('invalid number')\n",
    "        self.num=num\n",
    "        self.den=den\n",
    "        print(self.num, '/', self.den)\n",
    "    \n",
    "    def simplify(self):\n",
    "        if self.den==1:\n",
    "            return print(self.num)\n",
    "        x=min(self.num,self.den)\n",
    "        while x>1:\n",
    "            if self.num%x==0 and self.den%x==0:\n",
    "                if self.den/x==1:\n",
    "                    return print(int(self.num/x))\n",
    "                else:\n",
    "                    return print(int(self.num/x), '/', int(self.den/x))\n",
    "            x=x-1\n",
    "        else:\n",
    "            return print(self.num, '/', self.den)\n",
    "        \n",
    "    def add(self, othernum):\n",
    "            \n",
    "        newnum=self.num*othernum.den+self.den*othernum.num\n",
    "        newden=self.den*othernum.den\n",
    "            \n",
    "        print(newnum,'/',newden)\n",
    "        \n",
    "    def multiply(self,othernum):\n",
    "        newnum=self.num*othernum.num\n",
    "        newden=self.den*othernum.den\n",
    "        \n",
    "        self.num=newnum\n",
    "        self.den=newden\n",
    "        self.simplify()\n",
    "        "
   ]
  },
  {
   "cell_type": "code",
   "execution_count": 52,
   "id": "77ba22d3",
   "metadata": {},
   "outputs": [
    {
     "name": "stdout",
     "output_type": "stream",
     "text": [
      "4 / 6\n",
      "7 / 8\n",
      "7 / 8\n"
     ]
    }
   ],
   "source": [
    "s1=fraction(4,6)\n",
    "s2=fraction(7,8)\n",
    "s2.simplify()"
   ]
  },
  {
   "cell_type": "code",
   "execution_count": 53,
   "id": "a9db5312",
   "metadata": {},
   "outputs": [
    {
     "name": "stdout",
     "output_type": "stream",
     "text": [
      "74 / 48\n",
      "7 / 12\n"
     ]
    }
   ],
   "source": [
    "s2.add(s1)\n",
    "s1.multiply(s2)"
   ]
  },
  {
   "cell_type": "code",
   "execution_count": 5,
   "id": "f23e05a9",
   "metadata": {},
   "outputs": [
    {
     "name": "stdout",
     "output_type": "stream",
     "text": [
      "color of car red\n",
      "maxspeed of car 120\n",
      "number of gear 4\n",
      "is convertible False\n"
     ]
    }
   ],
   "source": [
    "class vehicle:\n",
    "    def __init__(self,color,maxspeed):\n",
    "        self.color=color\n",
    "        self.maxspeed=maxspeed\n",
    "        \n",
    "    def print(self):\n",
    "        print('color of car',self.color)\n",
    "        print('maxspeed of car',self.maxspeed)\n",
    "        \n",
    "class car(vehicle):\n",
    "    def __init__(self,color,maxspeed,gear,convertible):\n",
    "        super().__init__(color,maxspeed)\n",
    "        self.gear=gear\n",
    "        self.convertible=convertible\n",
    "        \n",
    "        super().print()\n",
    "        print('number of gear',self.gear)\n",
    "        print('is convertible',self.convertible)\n",
    "        \n",
    "c1=car('red',120,4,False)"
   ]
  },
  {
   "cell_type": "code",
   "execution_count": 27,
   "id": "3798afff",
   "metadata": {},
   "outputs": [],
   "source": [
    "class farhan:\n",
    "    def __init__(self,age,height):\n",
    "        self.__age=age\n",
    "        self.height=height\n",
    "        \n",
    "    def print(self):\n",
    "        print('the age of farhan',self.__age)\n",
    "        print('the height of the farhan',self.height)\n",
    "        \n",
    "class khan:\n",
    "    def __init__(self,place,state):\n",
    "        self.place=place\n",
    "        self.state=state\n",
    "        \n",
    "    def print(self):\n",
    "        print('place of khan'.self.place)\n",
    "        print('state of khan'.self.state)\n",
    "        \n",
    "class ahmad(farhan,khan):\n",
    "    def __init__(self,x,y):\n",
    "        super().__init__(x,y)\n",
    "        \n",
    "    def printc(self):\n",
    "        self.print()\n",
    "    \n",
    "        "
   ]
  },
  {
   "cell_type": "code",
   "execution_count": 28,
   "id": "836791a4",
   "metadata": {},
   "outputs": [
    {
     "name": "stdout",
     "output_type": "stream",
     "text": [
      "the age of farhan 26\n",
      "the height of the farhan 5.8\n"
     ]
    }
   ],
   "source": [
    "a=ahmad(26,5.8)\n",
    "a.printc()"
   ]
  },
  {
   "cell_type": "code",
   "execution_count": 11,
   "id": "38770be8",
   "metadata": {},
   "outputs": [],
   "source": [
    "class a:\n",
    "    def __init__(self,name,roll_number,school):\n",
    "        self.name=name\n",
    "        self.roll_number=roll_number\n",
    "        self.school=school\n",
    "        \n",
    "    def print(self):\n",
    "        print(self.name)\n",
    "        print(self.roll_number)\n",
    "        print(self.school)\n",
    "        \n",
    "class b(a):\n",
    "    def __init__(self,name,roll_number,school,city,isTravelling):\n",
    "        super().__init__(name,roll_number,school)\n",
    "        self.city=city\n",
    "        self.isTravelling=isTravelling\n",
    "        \n",
    "    def print(self):\n",
    "        super().print()\n",
    "        print(self.city)\n",
    "        print(self.isTravelling)\n",
    "        "
   ]
  },
  {
   "cell_type": "code",
   "execution_count": 12,
   "id": "55943a70",
   "metadata": {},
   "outputs": [
    {
     "name": "stdout",
     "output_type": "stream",
     "text": [
      "farhan\n",
      "22AG63R31\n",
      "IIT Khargapur\n",
      "Faizabad\n",
      "Yes\n"
     ]
    }
   ],
   "source": [
    "s1=b('farhan','22AG63R31','IIT Khargapur','Faizabad','Yes')\n",
    "s1.print()"
   ]
  }
 ],
 "metadata": {
  "kernelspec": {
   "display_name": "Python 3 (ipykernel)",
   "language": "python",
   "name": "python3"
  },
  "language_info": {
   "codemirror_mode": {
    "name": "ipython",
    "version": 3
   },
   "file_extension": ".py",
   "mimetype": "text/x-python",
   "name": "python",
   "nbconvert_exporter": "python",
   "pygments_lexer": "ipython3",
   "version": "3.11.1"
  }
 },
 "nbformat": 4,
 "nbformat_minor": 5
}
