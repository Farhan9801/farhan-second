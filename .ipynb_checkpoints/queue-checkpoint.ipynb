{
 "cells": [
  {
   "cell_type": "markdown",
   "id": "76364765",
   "metadata": {},
   "source": [
    "\n",
    "    queue through array\n",
    "    "
   ]
  },
  {
   "cell_type": "code",
   "execution_count": 1,
   "id": "8d6a1ff2",
   "metadata": {},
   "outputs": [
    {
     "name": "stdout",
     "output_type": "stream",
     "text": [
      "10\n",
      "20\n",
      "3\n",
      "4\n",
      "5\n"
     ]
    }
   ],
   "source": [
    "class queue1:\n",
    "    \n",
    "    def __init__(self):\n",
    "        \n",
    "        self.__data=[]\n",
    "        self.__count=0\n",
    "        self.__i=0\n",
    "        \n",
    "    def enqueue(self,ele):\n",
    "        self.__data.append(ele)\n",
    "        self.__count= self.__count +1\n",
    "        self.front=self.__data[self.__i]\n",
    "        \n",
    "        \n",
    "    def dequeue(self):\n",
    "        if self.size()!=0:\n",
    "            self.__count= self.__count -1\n",
    "            self.__i=self.__i+1\n",
    "            self.front=self.__data[self.__i]\n",
    "            \n",
    "        else:\n",
    "            return -1\n",
    "    \n",
    "    def size(self):\n",
    "        return self.__count\n",
    "    \n",
    "    def isempty(self):\n",
    "        if self.size()==0:\n",
    "            return isempty==True\n",
    "        else:\n",
    "            return False\n",
    "        \n",
    "    def front1(self):\n",
    "        return self.front\n",
    "    \n",
    "    \n",
    "q=queue1()\n",
    "q.enqueue(10)\n",
    "q.enqueue(20)\n",
    "\n",
    "q.enqueue(3)\n",
    "q.enqueue(4)\n",
    "q.enqueue(5)\n",
    "while q.size()!=0:\n",
    "    print(q.front1())\n",
    "    \n",
    "    if q.size()==1:\n",
    "        break\n",
    "    q.dequeue()\n",
    "        \n",
    "        \n",
    "    "
   ]
  },
  {
   "cell_type": "markdown",
   "id": "a18c9ad7",
   "metadata": {},
   "source": [
    "\n",
    "    QUEUE THROUGH LINKED LIST\n",
    "    "
   ]
  },
  {
   "cell_type": "code",
   "execution_count": 30,
   "id": "5f090da8",
   "metadata": {},
   "outputs": [
    {
     "name": "stdout",
     "output_type": "stream",
     "text": [
      "1\n",
      "5\n",
      "1\n",
      "2\n",
      "3\n",
      "9\n",
      "10\n"
     ]
    }
   ],
   "source": [
    "class Node:\n",
    "    def __init__(self,data):\n",
    "        self.data=data\n",
    "        self.next=None\n",
    "        \n",
    "class queue2:\n",
    "    def __init__(self):\n",
    "        self.head=None\n",
    "        self.tail=None\n",
    "        self.count=0\n",
    "        \n",
    "    def enqueue(self,ele):\n",
    "        newnode=Node(ele)\n",
    "        if self.head==None:\n",
    "            self.head=newnode\n",
    "            self.tail=newnode\n",
    "            \n",
    "        else:\n",
    "            self.tail.next=newnode\n",
    "            self.tail=newnode\n",
    "        \n",
    "        self.count+=1\n",
    "        \n",
    "    def dequeue(self):\n",
    "        if self.head==None:\n",
    "            return print('queue is empty')\n",
    "        \n",
    "        else:\n",
    "            data=self.head.data\n",
    "            self.head=self.head.next\n",
    "            \n",
    "        self.count-=1\n",
    "        return data\n",
    "        \n",
    "    def size(self):\n",
    "        return self.count\n",
    "    \n",
    "    def isempty(self):\n",
    "        return self.size()==0\n",
    "    \n",
    "    def front(self):\n",
    "        return self.head.data\n",
    "        \n",
    "q=queue2()\n",
    "q.enqueue(1)\n",
    "q.enqueue(2)\n",
    "print(q.front())\n",
    "q.enqueue(3)\n",
    "q.enqueue(9)\n",
    "q.enqueue(10)\n",
    "print(q.size())\n",
    "\n",
    "while q.isempty() is False:\n",
    "    print(q.dequeue())\n",
    "    \n",
    "    \n",
    "\n",
    "        \n",
    "    \n",
    "        \n",
    "        "
   ]
  },
  {
   "cell_type": "markdown",
   "id": "bf197533",
   "metadata": {},
   "source": [
    "\n",
    "    QUEUE USING TWO STACK\n",
    "    "
   ]
  },
  {
   "cell_type": "code",
   "execution_count": 43,
   "id": "02ec6d06",
   "metadata": {},
   "outputs": [
    {
     "name": "stdout",
     "output_type": "stream",
     "text": [
      "4\n",
      "3\n",
      "2\n",
      "1\n"
     ]
    }
   ],
   "source": [
    "import queue\n",
    "\n",
    "s1=queue.LifoQueue()\n",
    "s2=queue.LifoQueue()\n",
    "s1.put(1)\n",
    "s1.put(2)\n",
    "s1.put(3)\n",
    "s1.put(4)\n",
    "\n",
    "def stoq(s1,s2):\n",
    "    if s1.qsize()==1:\n",
    "        return s1\n",
    "    while s1.qsize()>1:\n",
    "        s2.put(s1.get())\n",
    "    \n",
    "    a=s1.get()\n",
    "    \n",
    "    while s2.qsize()>0:\n",
    "        s1.put(s2.get())\n",
    "        \n",
    "    output=stoq(s1,s2)\n",
    "        \n",
    "    \n",
    "    return \n"
   ]
  },
  {
   "cell_type": "markdown",
   "id": "fb08993e",
   "metadata": {},
   "source": [
    "\n",
    "    QUEUE USING TWO STACK\n",
    "    (n order for enqueue)\n",
    "    "
   ]
  },
  {
   "cell_type": "code",
   "execution_count": 11,
   "id": "d193d06b",
   "metadata": {},
   "outputs": [
    {
     "name": "stdout",
     "output_type": "stream",
     "text": [
      "1\n",
      "2\n",
      "3\n",
      "4\n",
      "5\n"
     ]
    }
   ],
   "source": [
    "class queue3:\n",
    "    def __init__(self):\n",
    "        self.__s1=[]\n",
    "        self.__s2=[]\n",
    "        \n",
    "    def enqueue(self,ele):\n",
    "        while len(self.__s1)!=0:\n",
    "            self.__s2.append(self.__s1.pop())\n",
    "        \n",
    "        self.__s1.append(ele)\n",
    "        \n",
    "        while len(self.__s2)!=0:\n",
    "            self.__s1.append(self.__s2.pop())\n",
    "            \n",
    "        return\n",
    "    \n",
    "    def dequeue(self):\n",
    "        if len(self.__s1)==0:\n",
    "            return print('queue is empty')\n",
    "        return self.__s1.pop()\n",
    "    \n",
    "    def front(self):\n",
    "        return self.__s1[-1]\n",
    "    \n",
    "    def size(self):\n",
    "        return len(self.__s1)\n",
    "    \n",
    "    def isempty(self):\n",
    "        return self.size()==0\n",
    "    \n",
    "q=queue3()\n",
    "q.enqueue(1)\n",
    "q.enqueue(2)\n",
    "q.enqueue(3)\n",
    "q.enqueue(4)\n",
    "q.enqueue(5)\n",
    "while q.size()!=0:\n",
    "    print(q.front())\n",
    "    q.dequeue()\n",
    "    "
   ]
  },
  {
   "cell_type": "markdown",
   "id": "ebc4a01d",
   "metadata": {},
   "source": [
    "\n",
    "    QUEUE USING TWO STACK\n",
    "    (n order for dequeue)\n",
    "    "
   ]
  },
  {
   "cell_type": "code",
   "execution_count": 12,
   "id": "39a02635",
   "metadata": {},
   "outputs": [
    {
     "name": "stdout",
     "output_type": "stream",
     "text": [
      "1\n",
      "2\n",
      "3\n",
      "4\n",
      "5\n"
     ]
    }
   ],
   "source": [
    "class queue4:\n",
    "    def __init__(self):\n",
    "        self.__s1=[]\n",
    "        self.__s2=[]\n",
    "    \n",
    "    def enqueue(self,ele):\n",
    "        return self.__s1.append(ele)\n",
    "    \n",
    "    def dequeue(self):\n",
    "        if len(self.__s1)==0:\n",
    "            return print('queue is empty')\n",
    "        \n",
    "        else:\n",
    "            while len(self.__s1)>0:\n",
    "                self.__s2.append(self.__s1.pop())\n",
    "                \n",
    "            a=self.__s1.pop()\n",
    "            \n",
    "            while len(self.__s2)!=0:\n",
    "                self.__s1.append(self.__s2.pop())\n",
    "                \n",
    "            return a\n",
    "        \n",
    "    def front(self):\n",
    "        return self.__s1[0]\n",
    "    \n",
    "    def size(self):\n",
    "        return len(self.__s1)\n",
    "    \n",
    "    def isempty(self):\n",
    "        return self.size()==0\n",
    "    \n",
    "q=queue3()\n",
    "q.enqueue(1)\n",
    "q.enqueue(2)\n",
    "q.enqueue(3)\n",
    "q.enqueue(4)\n",
    "q.enqueue(5)\n",
    "while q.size()!=0:\n",
    "    print(q.front())\n",
    "    q.dequeue()\n",
    "                "
   ]
  }
 ],
 "metadata": {
  "kernelspec": {
   "display_name": "Python 3 (ipykernel)",
   "language": "python",
   "name": "python3"
  },
  "language_info": {
   "codemirror_mode": {
    "name": "ipython",
    "version": 3
   },
   "file_extension": ".py",
   "mimetype": "text/x-python",
   "name": "python",
   "nbconvert_exporter": "python",
   "pygments_lexer": "ipython3",
   "version": "3.11.0"
  }
 },
 "nbformat": 4,
 "nbformat_minor": 5
}
