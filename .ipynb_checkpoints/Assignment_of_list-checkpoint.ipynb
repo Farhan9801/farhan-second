{
 "cells": [
  {
   "cell_type": "code",
   "execution_count": null,
   "id": "5f65d40b",
   "metadata": {},
   "outputs": [],
   "source": [
    "def sog(x):\n",
    "    for i in range(len(x)):\n",
    "        for j in range(i+1,len(x)):\n",
    "            if x[i]>x[j]:\n",
    "                x[i],x[j]=x[j],x[i]\n",
    "    \n",
    "    \n",
    "    \n",
    "x=[2,3,5,6,1,8,10]\n",
    "sog(x)"
   ]
  },
  {
   "cell_type": "markdown",
   "id": "f42eaf0d",
   "metadata": {},
   "source": [
    "\n",
    "Merge Two LIst  \n",
    "\n"
   ]
  },
  {
   "cell_type": "code",
   "execution_count": 28,
   "id": "1b44c8d3",
   "metadata": {},
   "outputs": [
    {
     "data": {
      "text/plain": [
       "[1,\n",
       " 2,\n",
       " 3,\n",
       " 4,\n",
       " 5,\n",
       " 7,\n",
       " 8,\n",
       " 9,\n",
       " 11,\n",
       " 11,\n",
       " 23,\n",
       " 24,\n",
       " 56,\n",
       " 56,\n",
       " 57,\n",
       " 58,\n",
       " 66,\n",
       " 69,\n",
       " 69,\n",
       " 71,\n",
       " 77,\n",
       " 79,\n",
       " 99]"
      ]
     },
     "execution_count": 28,
     "metadata": {},
     "output_type": "execute_result"
    }
   ],
   "source": [
    "def mergee(m,n,z):\n",
    "    if len(m)==0 or len(n)==0:\n",
    "        return z+m+n\n",
    "    \n",
    "    if m[0]<n[0]:\n",
    "        z.append(m[0])\n",
    "        return mergee(m[1:],n,z)\n",
    "    else:\n",
    "        z.append(n[0])\n",
    "        return mergee(m,n[1:],z)\n",
    "m=[3,5,7,9,11,23,56,58,66,69,71,77,99,]\n",
    "n=[1,2,4,8,11,24,56,57,69,79]\n",
    "mergee(m,n,[]) "
   ]
  },
  {
   "cell_type": "markdown",
   "id": "b86f0032",
   "metadata": {},
   "source": [
    "\n",
    "If you do not want to repeat the number\n"
   ]
  },
  {
   "cell_type": "code",
   "execution_count": 18,
   "id": "184f0caa",
   "metadata": {},
   "outputs": [
    {
     "data": {
      "text/plain": [
       "[1, 2, 3, 4, 5, 7, 8, 9, 11, 23, 24, 56, 57, 58, 66, 69, 71, 77, 79, 99]"
      ]
     },
     "execution_count": 18,
     "metadata": {},
     "output_type": "execute_result"
    }
   ],
   "source": [
    "def mergee(m,n,z):\n",
    "    if len(m)==0 or len(n)==0:\n",
    "        return z+m+n\n",
    "    \n",
    "    if m[0]<n[0]:\n",
    "        z.append(m[0])\n",
    "        return mergee(m[1:],n,z)\n",
    "    if n[0]<m[0]:\n",
    "        z.append(n[0])\n",
    "        return mergee(m,n[1:],z)\n",
    "    if n[0]==m[0]:\n",
    "        z.append(n[0])\n",
    "        return mergee(m[1:],n[1:],z)\n",
    "m=[3,5,7,9,11,23,56,58,66,69,71,77,99,]\n",
    "n=[1,2,4,8,11,24,56,57,69,79]\n",
    "mergee(m,n,[])\n",
    "           "
   ]
  }
 ],
 "metadata": {
  "kernelspec": {
   "display_name": "Python 3 (ipykernel)",
   "language": "python",
   "name": "python3"
  },
  "language_info": {
   "codemirror_mode": {
    "name": "ipython",
    "version": 3
   },
   "file_extension": ".py",
   "mimetype": "text/x-python",
   "name": "python",
   "nbconvert_exporter": "python",
   "pygments_lexer": "ipython3",
   "version": "3.11.0"
  },
  "vscode": {
   "interpreter": {
    "hash": "613ed72dd2691ec7c24d595486a81379a91216f6ce110184795d4198d518c356"
   }
  }
 },
 "nbformat": 4,
 "nbformat_minor": 5
}
