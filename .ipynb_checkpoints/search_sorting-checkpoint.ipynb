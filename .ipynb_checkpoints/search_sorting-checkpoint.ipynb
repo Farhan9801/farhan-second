{
 "cells": [
  {
   "cell_type": "code",
   "execution_count": 1,
   "id": "da6c411e",
   "metadata": {},
   "outputs": [],
   "source": [
    "def sog(x):\n",
    "    for i in range(len(x)):\n",
    "        for j in range(i+1,len(x)):\n",
    "            if x[i]>x[j]:\n",
    "                x[i],x[j]=x[j],x[i]\n",
    "    \n",
    "    \n",
    "    \n",
    "x=[2,3,5,6,1,8,10]\n",
    "sog(x)"
   ]
  }
 ],
 "metadata": {
  "kernelspec": {
   "display_name": "Python 3 (ipykernel)",
   "language": "python",
   "name": "python3"
  },
  "language_info": {
   "codemirror_mode": {
    "name": "ipython",
    "version": 3
   },
   "file_extension": ".py",
   "mimetype": "text/x-python",
   "name": "python",
   "nbconvert_exporter": "python",
   "pygments_lexer": "ipython3",
   "version": "3.11.1"
  }
 },
 "nbformat": 4,
 "nbformat_minor": 5
}
