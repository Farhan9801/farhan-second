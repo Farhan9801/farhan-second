{
 "cells": [
  {
   "cell_type": "code",
   "execution_count": 18,
   "id": "ce6cacf4",
   "metadata": {},
   "outputs": [],
   "source": [
    "class stack:\n",
    "    \n",
    "    def __init__(self):\n",
    "        self.__data=[]\n",
    "        \n",
    "    def push(self,item):\n",
    "        return self.__data.append(item)\n",
    "    \n",
    "    def pop(self):\n",
    "        if self.isempty():\n",
    "            print('stack is empty')\n",
    "            return\n",
    "        return self.__data.pop()\n",
    "    \n",
    "    def top(self):\n",
    "        if self.isempty():\n",
    "            return print('empty stack')\n",
    "        return self.__data[len(self.__data)-1]\n",
    "    \n",
    "    def size(self):\n",
    "        return len(self.__data)\n",
    "    \n",
    "    def isempty(self):\n",
    "        return self.size()==0\n",
    "        \n",
    "    "
   ]
  },
  {
   "cell_type": "markdown",
   "id": "74ab82df",
   "metadata": {},
   "source": [
    "\n",
    "    STACK BY LINKED LIST\n",
    "    "
   ]
  },
  {
   "cell_type": "code",
   "execution_count": 1,
   "id": "25272450",
   "metadata": {},
   "outputs": [],
   "source": [
    "class Node:\n",
    "    def __init__(self,data):\n",
    "        self.data=data\n",
    "        self.next=None\n",
    "class StackLL:\n",
    "    def __init__(self):\n",
    "        self.__head=None\n",
    "        self.__count=0\n",
    "    \n",
    "    def push(self,data):\n",
    "        newnode=Node(data)\n",
    "        newnode.next=self.__head\n",
    "        self.__head=newnode\n",
    "        self.__count=self.__count +1\n",
    "        \n",
    "    def pop(self):\n",
    "        if self.isempty() is True:\n",
    "            print('No element in the stack')\n",
    "        else:\n",
    "            print(self.__head.data)\n",
    "            self.__head=self.__head.next\n",
    "            self.__count=self.__count -1\n",
    "    \n",
    "    def top(self):\n",
    "        if isempty is True:\n",
    "            print('No element in the stack')\n",
    "        else:\n",
    "            print(self.__head.data)\n",
    "        \n",
    "    def size(self):\n",
    "        return self.__count\n",
    "    \n",
    "    def isempty(self):\n",
    "        if self.__count==0:\n",
    "            return True"
   ]
  },
  {
   "cell_type": "markdown",
   "id": "be7cd6b4",
   "metadata": {},
   "source": [
    "\n",
    "    BALANCED PARANTHESIS\n",
    "    "
   ]
  },
  {
   "cell_type": "code",
   "execution_count": 8,
   "id": "7cc9e816",
   "metadata": {},
   "outputs": [
    {
     "name": "stdout",
     "output_type": "stream",
     "text": [
      "everthing is balanced\n"
     ]
    }
   ],
   "source": [
    "def balance(x):\n",
    "    import queue\n",
    "    s=queue.LifoQueue()\n",
    "    for i in x:\n",
    "        if i=='(':\n",
    "            s.put(i)\n",
    "        elif i=='[':\n",
    "            s.put(i)\n",
    "        elif i=='{':\n",
    "            s.put(i)\n",
    "            \n",
    "        elif i==')':\n",
    "            if s.empty():\n",
    "                return print('not balanced')\n",
    "            elif s.get()=='(':\n",
    "                continue\n",
    "            else:\n",
    "                return print('not balanced')\n",
    "        elif i=='}':\n",
    "            if s.empty():\n",
    "                return print('not balanced')\n",
    "            elif s.get()=='{':\n",
    "                continue\n",
    "            else:\n",
    "                return print('not balanced')\n",
    "                \n",
    "        elif i==']':\n",
    "            if s.empty():\n",
    "                return print('not balanced')\n",
    "            elif s.get()=='[':\n",
    "                continue\n",
    "            else:\n",
    "                return print('not balanced')\n",
    "        \n",
    "        else:\n",
    "            pass\n",
    "    else:\n",
    "        print('everthing is balanced')\n",
    "        \n",
    "x='(aadada){}'\n",
    "balance(x)\n",
    "        "
   ]
  },
  {
   "cell_type": "code",
   "execution_count": null,
   "id": "417e532e",
   "metadata": {},
   "outputs": [],
   "source": [
    "x='{(a+b)+a}'\n",
    "y=balance(x)\n",
    "print(y)"
   ]
  },
  {
   "cell_type": "code",
   "execution_count": 29,
   "id": "69c7e87b",
   "metadata": {},
   "outputs": [
    {
     "name": "stdout",
     "output_type": "stream",
     "text": [
      "9\n",
      "8\n",
      "No element in the stack\n"
     ]
    }
   ],
   "source": [
    "s=StackLL()\n",
    "s.push(8)\n",
    "s.push(9)\n",
    "s.pop()\n",
    "s.pop()\n",
    "s.pop()"
   ]
  },
  {
   "cell_type": "code",
   "execution_count": 23,
   "id": "c4d9642c",
   "metadata": {},
   "outputs": [
    {
     "ename": "NameError",
     "evalue": "name 'stack' is not defined",
     "output_type": "error",
     "traceback": [
      "\u001b[1;31m---------------------------------------------------------------------------\u001b[0m",
      "\u001b[1;31mNameError\u001b[0m                                 Traceback (most recent call last)",
      "Cell \u001b[1;32mIn[23], line 1\u001b[0m\n\u001b[1;32m----> 1\u001b[0m s\u001b[38;5;241m=\u001b[39m\u001b[43mstack\u001b[49m()\n\u001b[0;32m      2\u001b[0m s\u001b[38;5;241m.\u001b[39mpush(\u001b[38;5;241m1\u001b[39m)\n\u001b[0;32m      3\u001b[0m s\u001b[38;5;241m.\u001b[39mpush(\u001b[38;5;241m2\u001b[39m)\n",
      "\u001b[1;31mNameError\u001b[0m: name 'stack' is not defined"
     ]
    }
   ],
   "source": [
    "s=stack()\n",
    "s.push(1)\n",
    "s.push(2)\n",
    "s.push(3)\n",
    "while s.isempty() is False:\n",
    "    print(s.pop())"
   ]
  }
 ],
 "metadata": {
  "kernelspec": {
   "display_name": "Python 3 (ipykernel)",
   "language": "python",
   "name": "python3"
  },
  "language_info": {
   "codemirror_mode": {
    "name": "ipython",
    "version": 3
   },
   "file_extension": ".py",
   "mimetype": "text/x-python",
   "name": "python",
   "nbconvert_exporter": "python",
   "pygments_lexer": "ipython3",
   "version": "3.11.0"
  }
 },
 "nbformat": 4,
 "nbformat_minor": 5
}
