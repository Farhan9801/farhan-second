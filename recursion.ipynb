{
 "cells": [
  {
   "cell_type": "markdown",
   "id": "e479816c",
   "metadata": {},
   "source": [
    "\n",
    "        print value from 1 to n\n",
    "        "
   ]
  },
  {
   "cell_type": "code",
   "execution_count": 5,
   "id": "f5752a52",
   "metadata": {},
   "outputs": [],
   "source": [
    "def upto_n(n):\n",
    "    if n==0:\n",
    "        return\n",
    "    upto_n(n-1)\n",
    "    print(n)"
   ]
  },
  {
   "cell_type": "code",
   "execution_count": 6,
   "id": "bd60623b",
   "metadata": {},
   "outputs": [
    {
     "name": "stdout",
     "output_type": "stream",
     "text": [
      "1\n",
      "2\n",
      "3\n",
      "4\n",
      "5\n"
     ]
    }
   ],
   "source": [
    "upto_n(5)"
   ]
  },
  {
   "cell_type": "markdown",
   "id": "d196ce77",
   "metadata": {},
   "source": [
    "\n",
    "print value from n to 1"
   ]
  },
  {
   "cell_type": "code",
   "execution_count": 20,
   "id": "b50d4901",
   "metadata": {},
   "outputs": [],
   "source": [
    "def upto_n(n):\n",
    "    if n==1:\n",
    "        return print('1')\n",
    "    print(n)\n",
    "    upto_n(n-1)\n",
    "    "
   ]
  },
  {
   "cell_type": "code",
   "execution_count": 21,
   "id": "872e8fc0",
   "metadata": {},
   "outputs": [
    {
     "name": "stdout",
     "output_type": "stream",
     "text": [
      "5\n",
      "4\n",
      "3\n",
      "2\n",
      "1\n"
     ]
    }
   ],
   "source": [
    "upto_n(5)"
   ]
  },
  {
   "cell_type": "markdown",
   "id": "7257c54c",
   "metadata": {},
   "source": [
    "\n",
    "    fibonacci\n",
    "        "
   ]
  },
  {
   "cell_type": "code",
   "execution_count": 13,
   "id": "fd546d84",
   "metadata": {},
   "outputs": [],
   "source": [
    "def fibo(n):\n",
    "    if n==1 or n==2:\n",
    "        return 1\n",
    "    x=fibo(n-1)\n",
    "    y=fibo(n-2)\n",
    "    return x+y"
   ]
  },
  {
   "cell_type": "code",
   "execution_count": 14,
   "id": "f7d65ae3",
   "metadata": {},
   "outputs": [
    {
     "data": {
      "text/plain": [
       "3"
      ]
     },
     "execution_count": 14,
     "metadata": {},
     "output_type": "execute_result"
    }
   ],
   "source": [
    "fibo(4)"
   ]
  },
  {
   "cell_type": "markdown",
   "id": "91734c4e",
   "metadata": {},
   "source": [
    "\n",
    "    CHECK IF LIST IS SORTED BY JUST INDEX\n"
   ]
  },
  {
   "cell_type": "code",
   "execution_count": 15,
   "id": "4cbb1c03",
   "metadata": {},
   "outputs": [],
   "source": [
    "def sor(n,s):\n",
    "    if s==len(n)-1:\n",
    "        return print('list is sorted')\n",
    "    if n[s]>n[s+1]:\n",
    "        return print('nt sorted list')\n",
    "    sor(n,s+1)"
   ]
  },
  {
   "cell_type": "code",
   "execution_count": 17,
   "id": "c6bb5e13",
   "metadata": {},
   "outputs": [
    {
     "name": "stdout",
     "output_type": "stream",
     "text": [
      "nt sorted list\n"
     ]
    }
   ],
   "source": [
    "n=[1,2,3,4,5,6,11,7,8]\n",
    "sor(n,0)"
   ]
  },
  {
   "cell_type": "markdown",
   "id": "5a6d4ae0",
   "metadata": {},
   "source": [
    "\n",
    "    CHECK IF SORTED BY CREATING NEW LIST\n"
   ]
  },
  {
   "cell_type": "code",
   "execution_count": 26,
   "id": "0e0462e6",
   "metadata": {},
   "outputs": [],
   "source": [
    "def issorted(n):\n",
    "    if len(n)==1:\n",
    "        return True\n",
    "    if n[0]>n[1]:\n",
    "        return False\n",
    "    a=n[1:]\n",
    "    x=issorted(a)\n",
    "    return x"
   ]
  },
  {
   "cell_type": "code",
   "execution_count": 28,
   "id": "acd05c33",
   "metadata": {},
   "outputs": [
    {
     "data": {
      "text/plain": [
       "True"
      ]
     },
     "execution_count": 28,
     "metadata": {},
     "output_type": "execute_result"
    }
   ],
   "source": [
    "n=[1,2,3,4,5,6,7,11,19]\n",
    "issorted(n)"
   ]
  },
  {
   "cell_type": "markdown",
   "id": "b0226fcc",
   "metadata": {},
   "source": [
    "\n",
    "    SUM OF ARRAY\n",
    "    "
   ]
  },
  {
   "cell_type": "code",
   "execution_count": 51,
   "id": "a67c0d81",
   "metadata": {},
   "outputs": [],
   "source": [
    "def sum_array(n,s):\n",
    "    if s==len(n):\n",
    "        return 0\n",
    "    x=n[s]+sum_array(n,s+1)\n",
    "    return x\n",
    "    "
   ]
  },
  {
   "cell_type": "code",
   "execution_count": 52,
   "id": "55d8cba1",
   "metadata": {},
   "outputs": [
    {
     "data": {
      "text/plain": [
       "15"
      ]
     },
     "execution_count": 52,
     "metadata": {},
     "output_type": "execute_result"
    }
   ],
   "source": [
    "n=[1,2,3,4,5]\n",
    "sum_array(n,0)"
   ]
  },
  {
   "cell_type": "markdown",
   "id": "dc22e1af",
   "metadata": {},
   "source": [
    "\n",
    "    CHECK IF NUMBER EXIT IN LIST using index\n",
    "    "
   ]
  },
  {
   "cell_type": "code",
   "execution_count": 73,
   "id": "02016e17",
   "metadata": {},
   "outputs": [],
   "source": [
    "def check(n,x,s):\n",
    "    if s==len(n):\n",
    "        return False\n",
    "    if n[s]==x:\n",
    "        return True\n",
    "    m=check(n,x,s+1)\n",
    "    return m"
   ]
  },
  {
   "cell_type": "code",
   "execution_count": 65,
   "id": "bdee638c",
   "metadata": {},
   "outputs": [
    {
     "data": {
      "text/plain": [
       "False"
      ]
     },
     "execution_count": 65,
     "metadata": {},
     "output_type": "execute_result"
    }
   ],
   "source": [
    "n=[1,2,3,4,5,6,7,453,87,9,87,64,22]\n",
    "check(n,11,0)"
   ]
  },
  {
   "cell_type": "markdown",
   "id": "1f798c3e",
   "metadata": {},
   "source": [
    "\n",
    "    CHECK IF NUMBER EXIST USING NEW LIST\n",
    "    "
   ]
  },
  {
   "cell_type": "code",
   "execution_count": 74,
   "id": "196ef345",
   "metadata": {},
   "outputs": [],
   "source": [
    "def check1(n,x):\n",
    "    if len(n)==0:\n",
    "        return False\n",
    "    if n[0]==x:\n",
    "        return True\n",
    "    m=check1(n[1:],x)\n",
    "    return m"
   ]
  },
  {
   "cell_type": "code",
   "execution_count": 75,
   "id": "0e01432f",
   "metadata": {},
   "outputs": [
    {
     "data": {
      "text/plain": [
       "False"
      ]
     },
     "execution_count": 75,
     "metadata": {},
     "output_type": "execute_result"
    }
   ],
   "source": [
    "n=[1,2,3,4,5,6,7,453,87,9,87,64,22]\n",
    "check(n,22,0)\n",
    "check1(n,11)"
   ]
  },
  {
   "cell_type": "markdown",
   "id": "06f561de",
   "metadata": {},
   "source": [
    "\n",
    "    first index of a number using index\n",
    "    "
   ]
  },
  {
   "cell_type": "code",
   "execution_count": 78,
   "id": "81107723",
   "metadata": {},
   "outputs": [],
   "source": [
    "def index(n,x,s):\n",
    "    if s==len(n):\n",
    "        return -1\n",
    "    if n[s]==x:\n",
    "        return s\n",
    "    m=index(n,x,s+1)\n",
    "    return m"
   ]
  },
  {
   "cell_type": "code",
   "execution_count": 81,
   "id": "8cfc70f4",
   "metadata": {},
   "outputs": [
    {
     "name": "stdout",
     "output_type": "stream",
     "text": [
      "14\n"
     ]
    },
    {
     "data": {
      "text/plain": [
       "13"
      ]
     },
     "execution_count": 81,
     "metadata": {},
     "output_type": "execute_result"
    }
   ],
   "source": [
    "n=[1,2,3,4,5,6,7,8,7,6,5,4,11,15]\n",
    "print(len(n))\n",
    "index(n,15,0)"
   ]
  },
  {
   "cell_type": "markdown",
   "id": "1cb66fd1",
   "metadata": {},
   "source": [
    "\n",
    "    finding first index of a number using new list\n",
    "    "
   ]
  },
  {
   "cell_type": "code",
   "execution_count": 82,
   "id": "c2cb6845",
   "metadata": {},
   "outputs": [],
   "source": [
    "def index1(n,x):\n",
    "    if len(n)==0:\n",
    "        return -1\n",
    "    if n[0]==x:\n",
    "        return 0\n",
    "    smallerList=n[1:]\n",
    "    smallerlistoutput=index1(smallerList,x)\n",
    "    if smallerlistoutput==-1:\n",
    "        return -1\n",
    "    else:\n",
    "        return 1+smallerlistoutput\n",
    "    "
   ]
  },
  {
   "cell_type": "code",
   "execution_count": 84,
   "id": "da7a34a0",
   "metadata": {},
   "outputs": [
    {
     "name": "stdout",
     "output_type": "stream",
     "text": [
      "14\n"
     ]
    },
    {
     "data": {
      "text/plain": [
       "13"
      ]
     },
     "execution_count": 84,
     "metadata": {},
     "output_type": "execute_result"
    }
   ],
   "source": [
    "n=[1,2,3,4,5,6,7,8,7,6,5,4,11,15]\n",
    "print(len(n))\n",
    "index1(n,15)"
   ]
  },
  {
   "cell_type": "markdown",
   "id": "813b3028",
   "metadata": {},
   "source": [
    "\n",
    "    finding last index of a number\n",
    "    "
   ]
  },
  {
   "cell_type": "code",
   "execution_count": 85,
   "id": "d8ac10ad",
   "metadata": {},
   "outputs": [],
   "source": [
    "def last_index(n,x,s):\n",
    "    if s==-1:\n",
    "        return -1\n",
    "    if n[s]==x:\n",
    "        return s\n",
    "    m=last_index(n,x,s-1)\n",
    "    return m"
   ]
  },
  {
   "cell_type": "code",
   "execution_count": 87,
   "id": "366076b8",
   "metadata": {},
   "outputs": [
    {
     "name": "stdout",
     "output_type": "stream",
     "text": [
      "14\n"
     ]
    },
    {
     "data": {
      "text/plain": [
       "8"
      ]
     },
     "execution_count": 87,
     "metadata": {},
     "output_type": "execute_result"
    }
   ],
   "source": [
    "n=[1,2,3,4,5,6,7,8,7,6,5,4,11,15]\n",
    "print(len(n))\n",
    "last_index(n,7,len(n)-1)"
   ]
  },
  {
   "cell_type": "markdown",
   "id": "1fcbacb5",
   "metadata": {},
   "source": [
    "\n",
    "Quick sort\n"
   ]
  },
  {
   "cell_type": "code",
   "execution_count": 31,
   "id": "3e394ff0",
   "metadata": {},
   "outputs": [
    {
     "name": "stdout",
     "output_type": "stream",
     "text": [
      "[1, 3, 5, 6, 7, 8, 9, 10, 15, 17, 19]\n"
     ]
    }
   ],
   "source": [
    "def quick(n,s,en):\n",
    "    if s>=en:\n",
    "        return \n",
    "    c=s\n",
    "    for i in range(s+1,en):\n",
    "        if n[s]>n[i]:\n",
    "            c+=1\n",
    "    \n",
    "    n[s],n[c]=n[c],n[s]\n",
    "    \n",
    "    for i in range(s,c):\n",
    "        for j in range(c+1,en):\n",
    "            if n[i]>n[j]:\n",
    "                n[i],n[j]=n[j],n[i]\n",
    "    \n",
    "    output=quick(n,s,c)\n",
    "    output1=quick(n,c+1,en)\n",
    "    return n\n",
    "    \n",
    "    \n",
    "    \n",
    "n=[9,1,5,6,3,7,8,10,19,15,17]\n",
    "print(quick(n,0,11))\n",
    "    \n",
    "    "
   ]
  },
  {
   "cell_type": "markdown",
   "id": "8985ae0a",
   "metadata": {},
   "source": [
    "\n",
    "    REPLACE ONE ALPHABET WITH ANOTHER IN STRING\n",
    "    "
   ]
  },
  {
   "cell_type": "code",
   "execution_count": 15,
   "id": "7cafc34e",
   "metadata": {},
   "outputs": [],
   "source": [
    "def repl(n,a,b):\n",
    "    if len(n)==0:\n",
    "        return ''\n",
    "    if n[0]==a:\n",
    "        return b+repl(n[1:],a,b)\n",
    "    else:\n",
    "        return n[0]+repl(n[1:],a,b)\n",
    "    "
   ]
  },
  {
   "cell_type": "code",
   "execution_count": 16,
   "id": "9be0691d",
   "metadata": {},
   "outputs": [
    {
     "data": {
      "text/plain": [
       "'sbcsbcsbcsbc'"
      ]
     },
     "execution_count": 16,
     "metadata": {},
     "output_type": "execute_result"
    }
   ],
   "source": [
    "n='abcabcabcabc'\n",
    "repl(n,'a','s')"
   ]
  },
  {
   "cell_type": "markdown",
   "id": "fe59a3de",
   "metadata": {},
   "source": [
    "\n",
    "    binary search\n",
    "    "
   ]
  },
  {
   "cell_type": "code",
   "execution_count": 28,
   "id": "887a20af",
   "metadata": {},
   "outputs": [],
   "source": [
    "def binary(n,y,si,en):\n",
    "    if si>en:\n",
    "        return -1\n",
    "    x=(si+en)//2\n",
    "    if n[x]==y:\n",
    "        return x\n",
    "    elif n[x]<y:\n",
    "        return binary(n,y,x+1,en)\n",
    "    else:\n",
    "        return binary(n,y,si,x-1)\n",
    "    "
   ]
  },
  {
   "cell_type": "code",
   "execution_count": 29,
   "id": "21505c82",
   "metadata": {},
   "outputs": [
    {
     "data": {
      "text/plain": [
       "4"
      ]
     },
     "execution_count": 29,
     "metadata": {},
     "output_type": "execute_result"
    }
   ],
   "source": [
    "n=[1,2,3,4,5,8,11]\n",
    "binary(n,5,0,6)"
   ]
  },
  {
   "cell_type": "markdown",
   "id": "c9a04f7a",
   "metadata": {},
   "source": [
    "\n",
    "TOWER OF HANOI\n"
   ]
  },
  {
   "cell_type": "code",
   "execution_count": 6,
   "id": "9aca96a7",
   "metadata": {},
   "outputs": [],
   "source": [
    "def hanoi(n,a,b,c):\n",
    "    if n==1:\n",
    "        return print(a,c)\n",
    "    hanoi(n-1,a,c,b)\n",
    "    print(a,c)\n",
    "    hanoi(n-1,b,a,c)\n",
    "    "
   ]
  },
  {
   "cell_type": "code",
   "execution_count": 10,
   "id": "43f7d3db",
   "metadata": {},
   "outputs": [
    {
     "name": "stdout",
     "output_type": "stream",
     "text": [
      "a c\n",
      "a b\n",
      "c b\n",
      "a c\n",
      "b a\n",
      "b c\n",
      "a c\n"
     ]
    }
   ],
   "source": [
    "hanoi(3,'a','b','c')"
   ]
  },
  {
   "cell_type": "markdown",
   "id": "bf991693",
   "metadata": {},
   "source": [
    "\n",
    "Geometric Sum\n"
   ]
  },
  {
   "cell_type": "code",
   "execution_count": 6,
   "id": "f4c29d70",
   "metadata": {},
   "outputs": [],
   "source": [
    "def geosum(k):\n",
    "    if k==0:\n",
    "        return 2**0\n",
    "    just_before=geosum(k-1)\n",
    "    output=1/2**k+just_before\n",
    "    return output\n",
    "    "
   ]
  },
  {
   "cell_type": "code",
   "execution_count": 8,
   "id": "8f010239",
   "metadata": {},
   "outputs": [
    {
     "name": "stdout",
     "output_type": "stream",
     "text": [
      "1.9375\n"
     ]
    }
   ],
   "source": [
    "print(geosum(4))"
   ]
  },
  {
   "cell_type": "code",
   "execution_count": null,
   "id": "07eae3a5",
   "metadata": {},
   "outputs": [],
   "source": []
  }
 ],
 "metadata": {
  "kernelspec": {
   "display_name": "Python 3 (ipykernel)",
   "language": "python",
   "name": "python3"
  },
  "language_info": {
   "codemirror_mode": {
    "name": "ipython",
    "version": 3
   },
   "file_extension": ".py",
   "mimetype": "text/x-python",
   "name": "python",
   "nbconvert_exporter": "python",
   "pygments_lexer": "ipython3",
   "version": "3.11.0"
  }
 },
 "nbformat": 4,
 "nbformat_minor": 5
}
