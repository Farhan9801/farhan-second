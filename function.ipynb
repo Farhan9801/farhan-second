{
 "cells": [
  {
   "cell_type": "code",
   "execution_count": 1,
   "id": "ab6a60c6",
   "metadata": {},
   "outputs": [
    {
     "name": "stdout",
     "output_type": "stream",
     "text": [
      "heelo\n"
     ]
    }
   ],
   "source": [
    "# assignment 1\n",
    "def ftoc(a,b,c):\n",
    "    for i in range(a,b+1,c):\n",
    "        c=(i-32)*5/9\n",
    "        print(f'farenheight {i} and celsius {c}')\n",
    "\n",
    "\n",
    "fs=int(input())\n",
    "fe=int(input())\n",
    "ss=int(input())\n",
    "ftoc(fs,fe,ss)"
   ]
  },
  {
   "cell_type": "code",
   "execution_count": 6,
   "id": "33afba7d",
   "metadata": {},
   "outputs": [
    {
     "name": "stdout",
     "output_type": "stream",
     "text": [
      "121\n",
      "['121']\n"
     ]
    },
    {
     "data": {
      "text/plain": [
       "True"
      ]
     },
     "execution_count": 6,
     "metadata": {},
     "output_type": "execute_result"
    }
   ],
   "source": [
    "# assignment 2\n",
    "def palin(x):\n",
    "    y=x.split()\n",
    "    print(y)\n",
    "    z=y[::-1]\n",
    "    if z==y:\n",
    "        return True\n",
    "    else:\n",
    "        return False\n",
    "    \n",
    "x=input()\n",
    "palin(x)"
   ]
  },
  {
   "cell_type": "code",
   "execution_count": 26,
   "id": "7a332470",
   "metadata": {},
   "outputs": [
    {
     "data": {
      "text/plain": [
       "12"
      ]
     },
     "execution_count": 26,
     "metadata": {},
     "output_type": "execute_result"
    }
   ],
   "source": [
    "121//10"
   ]
  },
  {
   "cell_type": "code",
   "execution_count": null,
   "id": "92be62e9",
   "metadata": {},
   "outputs": [],
   "source": []
  },
  {
   "cell_type": "code",
   "execution_count": null,
   "id": "3d1d0f9d",
   "metadata": {},
   "outputs": [],
   "source": []
  },
  {
   "cell_type": "code",
   "execution_count": null,
   "id": "b80f8c19",
   "metadata": {},
   "outputs": [],
   "source": []
  }
 ],
 "metadata": {
  "kernelspec": {
   "display_name": "Python 3 (ipykernel)",
   "language": "python",
   "name": "python3"
  },
  "language_info": {
   "codemirror_mode": {
    "name": "ipython",
    "version": 3
   },
   "file_extension": ".py",
   "mimetype": "text/x-python",
   "name": "python",
   "nbconvert_exporter": "python",
   "pygments_lexer": "ipython3",
   "version": "3.11.0"
  }
 },
 "nbformat": 4,
 "nbformat_minor": 5
}
